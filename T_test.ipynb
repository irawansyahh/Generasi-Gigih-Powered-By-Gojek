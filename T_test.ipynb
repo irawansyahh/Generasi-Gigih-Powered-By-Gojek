{
  "nbformat": 4,
  "nbformat_minor": 0,
  "metadata": {
    "accelerator": "GPU",
    "colab": {
      "name": "T-test.ipynb",
      "provenance": []
    },
    "kernelspec": {
      "display_name": "Python 3",
      "name": "python3"
    },
    "language_info": {
      "name": "python"
    }
  },
  "cells": [
    {
      "cell_type": "code",
      "metadata": {
        "colab": {
          "base_uri": "https://localhost:8080/"
        },
        "id": "h2V4svXKaCgz",
        "outputId": "36323446-ad35-4105-fbb7-e9e18bbe18b0"
      },
      "source": [
        "import pandas as pd\n",
        "from scipy import stats\n",
        "from statsmodels.stats import weightstats as stests"
      ],
      "execution_count": null,
      "outputs": [
        {
          "output_type": "stream",
          "text": [
            "/usr/local/lib/python3.7/dist-packages/statsmodels/tools/_testing.py:19: FutureWarning: pandas.util.testing is deprecated. Use the functions in the public API at pandas.testing instead.\n",
            "  import pandas.util.testing as tm\n"
          ],
          "name": "stderr"
        }
      ]
    },
    {
      "cell_type": "code",
      "metadata": {
        "colab": {
          "base_uri": "https://localhost:8080/"
        },
        "id": "K6xvQ1qrZYZ4",
        "outputId": "1128bd72-93a0-4d1b-eac8-e777b843f1e1"
      },
      "source": [
        "from google.colab import drive\n",
        "\n",
        "drive.mount(\"/content/drive\")"
      ],
      "execution_count": null,
      "outputs": [
        {
          "output_type": "stream",
          "text": [
            "Mounted at /content/drive\n"
          ],
          "name": "stdout"
        }
      ]
    },
    {
      "cell_type": "code",
      "metadata": {
        "colab": {
          "base_uri": "https://localhost:8080/",
          "height": 205
        },
        "id": "GuE9ea6qZwE1",
        "outputId": "1142face-3153-4414-a605-501defc74c74"
      },
      "source": [
        "df = pd.read_csv(\"drive/My Drive/bq-results-20210811-200813-lpffg3wuk59k/bq-results-20210811-200813-lpffg3wuk59k.csv\")\n",
        "df.tail()"
      ],
      "execution_count": null,
      "outputs": [
        {
          "output_type": "execute_result",
          "data": {
            "text/html": [
              "<div>\n",
              "<style scoped>\n",
              "    .dataframe tbody tr th:only-of-type {\n",
              "        vertical-align: middle;\n",
              "    }\n",
              "\n",
              "    .dataframe tbody tr th {\n",
              "        vertical-align: top;\n",
              "    }\n",
              "\n",
              "    .dataframe thead th {\n",
              "        text-align: right;\n",
              "    }\n",
              "</style>\n",
              "<table border=\"1\" class=\"dataframe\">\n",
              "  <thead>\n",
              "    <tr style=\"text-align: right;\">\n",
              "      <th></th>\n",
              "      <th>experiment</th>\n",
              "      <th>treatment_group</th>\n",
              "      <th>sales</th>\n",
              "    </tr>\n",
              "  </thead>\n",
              "  <tbody>\n",
              "    <tr>\n",
              "      <th>11923454</th>\n",
              "      <td>Marketing Offer</td>\n",
              "      <td>treatment</td>\n",
              "      <td>9600</td>\n",
              "    </tr>\n",
              "    <tr>\n",
              "      <th>11923455</th>\n",
              "      <td>Marketing Offer</td>\n",
              "      <td>treatment</td>\n",
              "      <td>9600</td>\n",
              "    </tr>\n",
              "    <tr>\n",
              "      <th>11923456</th>\n",
              "      <td>Marketing Offer</td>\n",
              "      <td>treatment</td>\n",
              "      <td>9600</td>\n",
              "    </tr>\n",
              "    <tr>\n",
              "      <th>11923457</th>\n",
              "      <td>Marketing Offer</td>\n",
              "      <td>treatment</td>\n",
              "      <td>9600</td>\n",
              "    </tr>\n",
              "    <tr>\n",
              "      <th>11923458</th>\n",
              "      <td>Marketing Offer</td>\n",
              "      <td>treatment</td>\n",
              "      <td>9600</td>\n",
              "    </tr>\n",
              "  </tbody>\n",
              "</table>\n",
              "</div>"
            ],
            "text/plain": [
              "               experiment treatment_group  sales\n",
              "11923454  Marketing Offer       treatment   9600\n",
              "11923455  Marketing Offer       treatment   9600\n",
              "11923456  Marketing Offer       treatment   9600\n",
              "11923457  Marketing Offer       treatment   9600\n",
              "11923458  Marketing Offer       treatment   9600"
            ]
          },
          "metadata": {
            "tags": []
          },
          "execution_count": 3
        }
      ]
    },
    {
      "cell_type": "code",
      "metadata": {
        "colab": {
          "base_uri": "https://localhost:8080/"
        },
        "id": "wbbSZJdlaOD2",
        "outputId": "f9b48b2b-35a6-4cc3-dbda-8fd68befc16d"
      },
      "source": [
        "df.shape"
      ],
      "execution_count": null,
      "outputs": [
        {
          "output_type": "execute_result",
          "data": {
            "text/plain": [
              "(11923459, 3)"
            ]
          },
          "metadata": {
            "tags": []
          },
          "execution_count": 5
        }
      ]
    },
    {
      "cell_type": "code",
      "metadata": {
        "id": "PyavDqf6alqS",
        "colab": {
          "base_uri": "https://localhost:8080/",
          "height": 422
        },
        "outputId": "04fce972-a9a9-4822-ca07-7591f7a17f8d"
      },
      "source": [
        "data_treatment = df[df['treatment_group']=='treatment']['sales'].reset_index(drop=True)\n",
        "data_control = df[df['treatment_group']=='control']['sales'].reset_index(drop=True)\n",
        "data_control\n",
        "\n",
        "new_df = pd.DataFrame({'sales_control':data_control, 'sales_treatment':data_treatment})\n",
        "new_df"
      ],
      "execution_count": null,
      "outputs": [
        {
          "output_type": "execute_result",
          "data": {
            "text/html": [
              "<div>\n",
              "<style scoped>\n",
              "    .dataframe tbody tr th:only-of-type {\n",
              "        vertical-align: middle;\n",
              "    }\n",
              "\n",
              "    .dataframe tbody tr th {\n",
              "        vertical-align: top;\n",
              "    }\n",
              "\n",
              "    .dataframe thead th {\n",
              "        text-align: right;\n",
              "    }\n",
              "</style>\n",
              "<table border=\"1\" class=\"dataframe\">\n",
              "  <thead>\n",
              "    <tr style=\"text-align: right;\">\n",
              "      <th></th>\n",
              "      <th>sales_control</th>\n",
              "      <th>sales_treatment</th>\n",
              "    </tr>\n",
              "  </thead>\n",
              "  <tbody>\n",
              "    <tr>\n",
              "      <th>0</th>\n",
              "      <td>19200</td>\n",
              "      <td>9600.0</td>\n",
              "    </tr>\n",
              "    <tr>\n",
              "      <th>1</th>\n",
              "      <td>19200</td>\n",
              "      <td>9600.0</td>\n",
              "    </tr>\n",
              "    <tr>\n",
              "      <th>2</th>\n",
              "      <td>19200</td>\n",
              "      <td>9600.0</td>\n",
              "    </tr>\n",
              "    <tr>\n",
              "      <th>3</th>\n",
              "      <td>19200</td>\n",
              "      <td>9600.0</td>\n",
              "    </tr>\n",
              "    <tr>\n",
              "      <th>4</th>\n",
              "      <td>19200</td>\n",
              "      <td>9600.0</td>\n",
              "    </tr>\n",
              "    <tr>\n",
              "      <th>...</th>\n",
              "      <td>...</td>\n",
              "      <td>...</td>\n",
              "    </tr>\n",
              "    <tr>\n",
              "      <th>7262682</th>\n",
              "      <td>9600</td>\n",
              "      <td>NaN</td>\n",
              "    </tr>\n",
              "    <tr>\n",
              "      <th>7262683</th>\n",
              "      <td>9600</td>\n",
              "      <td>NaN</td>\n",
              "    </tr>\n",
              "    <tr>\n",
              "      <th>7262684</th>\n",
              "      <td>9600</td>\n",
              "      <td>NaN</td>\n",
              "    </tr>\n",
              "    <tr>\n",
              "      <th>7262685</th>\n",
              "      <td>9600</td>\n",
              "      <td>NaN</td>\n",
              "    </tr>\n",
              "    <tr>\n",
              "      <th>7262686</th>\n",
              "      <td>9600</td>\n",
              "      <td>NaN</td>\n",
              "    </tr>\n",
              "  </tbody>\n",
              "</table>\n",
              "<p>7262687 rows × 2 columns</p>\n",
              "</div>"
            ],
            "text/plain": [
              "         sales_control  sales_treatment\n",
              "0                19200           9600.0\n",
              "1                19200           9600.0\n",
              "2                19200           9600.0\n",
              "3                19200           9600.0\n",
              "4                19200           9600.0\n",
              "...                ...              ...\n",
              "7262682           9600              NaN\n",
              "7262683           9600              NaN\n",
              "7262684           9600              NaN\n",
              "7262685           9600              NaN\n",
              "7262686           9600              NaN\n",
              "\n",
              "[7262687 rows x 2 columns]"
            ]
          },
          "metadata": {
            "tags": []
          },
          "execution_count": 4
        }
      ]
    },
    {
      "cell_type": "code",
      "metadata": {
        "id": "NSV44O9PbmLn",
        "colab": {
          "base_uri": "https://localhost:8080/",
          "height": 422
        },
        "outputId": "197a9184-07df-4b93-8ab3-8be690b33dac"
      },
      "source": [
        "new_df['sales_treatment'].fillna(value=new_df['sales_treatment'].mean(), inplace=True)\n",
        "new_df"
      ],
      "execution_count": null,
      "outputs": [
        {
          "output_type": "execute_result",
          "data": {
            "text/html": [
              "<div>\n",
              "<style scoped>\n",
              "    .dataframe tbody tr th:only-of-type {\n",
              "        vertical-align: middle;\n",
              "    }\n",
              "\n",
              "    .dataframe tbody tr th {\n",
              "        vertical-align: top;\n",
              "    }\n",
              "\n",
              "    .dataframe thead th {\n",
              "        text-align: right;\n",
              "    }\n",
              "</style>\n",
              "<table border=\"1\" class=\"dataframe\">\n",
              "  <thead>\n",
              "    <tr style=\"text-align: right;\">\n",
              "      <th></th>\n",
              "      <th>sales_control</th>\n",
              "      <th>sales_treatment</th>\n",
              "    </tr>\n",
              "  </thead>\n",
              "  <tbody>\n",
              "    <tr>\n",
              "      <th>0</th>\n",
              "      <td>19200</td>\n",
              "      <td>9600.000000</td>\n",
              "    </tr>\n",
              "    <tr>\n",
              "      <th>1</th>\n",
              "      <td>19200</td>\n",
              "      <td>9600.000000</td>\n",
              "    </tr>\n",
              "    <tr>\n",
              "      <th>2</th>\n",
              "      <td>19200</td>\n",
              "      <td>9600.000000</td>\n",
              "    </tr>\n",
              "    <tr>\n",
              "      <th>3</th>\n",
              "      <td>19200</td>\n",
              "      <td>9600.000000</td>\n",
              "    </tr>\n",
              "    <tr>\n",
              "      <th>4</th>\n",
              "      <td>19200</td>\n",
              "      <td>9600.000000</td>\n",
              "    </tr>\n",
              "    <tr>\n",
              "      <th>...</th>\n",
              "      <td>...</td>\n",
              "      <td>...</td>\n",
              "    </tr>\n",
              "    <tr>\n",
              "      <th>7262682</th>\n",
              "      <td>9600</td>\n",
              "      <td>12192.989144</td>\n",
              "    </tr>\n",
              "    <tr>\n",
              "      <th>7262683</th>\n",
              "      <td>9600</td>\n",
              "      <td>12192.989144</td>\n",
              "    </tr>\n",
              "    <tr>\n",
              "      <th>7262684</th>\n",
              "      <td>9600</td>\n",
              "      <td>12192.989144</td>\n",
              "    </tr>\n",
              "    <tr>\n",
              "      <th>7262685</th>\n",
              "      <td>9600</td>\n",
              "      <td>12192.989144</td>\n",
              "    </tr>\n",
              "    <tr>\n",
              "      <th>7262686</th>\n",
              "      <td>9600</td>\n",
              "      <td>12192.989144</td>\n",
              "    </tr>\n",
              "  </tbody>\n",
              "</table>\n",
              "<p>7262687 rows × 2 columns</p>\n",
              "</div>"
            ],
            "text/plain": [
              "         sales_control  sales_treatment\n",
              "0                19200      9600.000000\n",
              "1                19200      9600.000000\n",
              "2                19200      9600.000000\n",
              "3                19200      9600.000000\n",
              "4                19200      9600.000000\n",
              "...                ...              ...\n",
              "7262682           9600     12192.989144\n",
              "7262683           9600     12192.989144\n",
              "7262684           9600     12192.989144\n",
              "7262685           9600     12192.989144\n",
              "7262686           9600     12192.989144\n",
              "\n",
              "[7262687 rows x 2 columns]"
            ]
          },
          "metadata": {
            "tags": []
          },
          "execution_count": 6
        }
      ]
    },
    {
      "cell_type": "code",
      "metadata": {
        "id": "1nMnl57SaVNA",
        "colab": {
          "base_uri": "https://localhost:8080/"
        },
        "outputId": "fe863671-4128-4694-ca48-af2abbc7b038"
      },
      "source": [
        "ttest,pval = stats.ttest_rel(new_df['sales_control'], new_df['sales_treatment'])\n",
        "print(pval)"
      ],
      "execution_count": null,
      "outputs": [
        {
          "output_type": "stream",
          "text": [
            "0.0\n"
          ],
          "name": "stdout"
        }
      ]
    },
    {
      "cell_type": "code",
      "metadata": {
        "colab": {
          "base_uri": "https://localhost:8080/"
        },
        "id": "L643l5TWDL_w",
        "outputId": "7a283ba8-a4f9-48a7-dd28-e96b4fc441b9"
      },
      "source": [
        "if pval<0.05:\n",
        "    print(\"reject null hypothesis\")\n",
        "else:\n",
        "    print(\"accept null hypothesis\")"
      ],
      "execution_count": null,
      "outputs": [
        {
          "output_type": "stream",
          "text": [
            "reject null hypothesis\n"
          ],
          "name": "stdout"
        }
      ]
    },
    {
      "cell_type": "markdown",
      "metadata": {
        "id": "6L4mVpwKDWpT"
      },
      "source": [
        "Based on the results of pval generate reject null hypothesis that means Free delivery subscription fee on 9.9 campaign does not impact sales is not true so the hypothesis is Free delivery subscription fee on 9.9 campaign make impacts sales"
      ]
    },
    {
      "cell_type": "code",
      "metadata": {
        "id": "2RfA-Cf3IlPf"
      },
      "source": [
        "import io\n",
        "from scipy.stats import chi2_contingency, chisquare"
      ],
      "execution_count": null,
      "outputs": []
    },
    {
      "cell_type": "code",
      "metadata": {
        "colab": {
          "base_uri": "https://localhost:8080/"
        },
        "id": "f7YwbzWILNlS",
        "outputId": "af9c281c-df64-4ed3-8965-0dd4ea5bfabf"
      },
      "source": [
        "pvalue = chi2_contingency(new_df)[1]\n",
        "pvalue"
      ],
      "execution_count": null,
      "outputs": [
        {
          "output_type": "execute_result",
          "data": {
            "text/plain": [
              "0.0"
            ]
          },
          "metadata": {
            "tags": []
          },
          "execution_count": 30
        }
      ]
    },
    {
      "cell_type": "code",
      "metadata": {
        "colab": {
          "base_uri": "https://localhost:8080/"
        },
        "id": "NjJH5axFZwSp",
        "outputId": "d50e4533-a1a2-402d-d26e-726ae6b6ce26"
      },
      "source": [
        "if pvalue<0.05:\n",
        "    print(\"reject null hypothesis\")\n",
        "else:\n",
        "    print(\"accept null hypothesis\")"
      ],
      "execution_count": null,
      "outputs": [
        {
          "output_type": "stream",
          "text": [
            "reject null hypothesis\n"
          ],
          "name": "stdout"
        }
      ]
    },
    {
      "cell_type": "code",
      "metadata": {
        "colab": {
          "base_uri": "https://localhost:8080/"
        },
        "id": "kK4jc28oBvxo",
        "outputId": "1e965cdb-8302-4eef-da6d-aa9235985fb2"
      },
      "source": [
        "import statistics\n",
        "print(\"Standard Deviation of sample is % s \"\n",
        "                % (statistics.stdev(new_df['sales_control'])))"
      ],
      "execution_count": null,
      "outputs": [
        {
          "output_type": "stream",
          "text": [
            "Standard Deviation of sample is 5944.905025982112 \n"
          ],
          "name": "stdout"
        }
      ]
    },
    {
      "cell_type": "code",
      "metadata": {
        "colab": {
          "base_uri": "https://localhost:8080/"
        },
        "id": "g26OpAcSB8ci",
        "outputId": "0bb637f2-3916-4d18-e734-ac8af8d54bd8"
      },
      "source": [
        "import statistics\n",
        "print(\"Standard Deviation of sample is % s \"\n",
        "                % (statistics.stdev(new_df['sales_treatment'])))"
      ],
      "execution_count": null,
      "outputs": [
        {
          "output_type": "stream",
          "text": [
            "Standard Deviation of sample is 4966.878815542065 \n"
          ],
          "name": "stdout"
        }
      ]
    },
    {
      "cell_type": "code",
      "metadata": {
        "id": "v8kwCtp5J8KU"
      },
      "source": [
        "chisquare = chi2_contingency(new_df)[0]\n",
        "dof = chi2_contingency(new_df)[2]"
      ],
      "execution_count": null,
      "outputs": []
    },
    {
      "cell_type": "code",
      "metadata": {
        "colab": {
          "base_uri": "https://localhost:8080/"
        },
        "id": "pNpvOf4RKGAV",
        "outputId": "bc1d47ca-1ffd-4e7c-f51d-819f199b06cf"
      },
      "source": [
        "print(chisquare)\n",
        "print(pvalue)\n",
        "print(dof)"
      ],
      "execution_count": null,
      "outputs": [
        {
          "output_type": "stream",
          "text": [
            "10812308643.44894\n",
            "0.0\n",
            "7262686\n"
          ],
          "name": "stdout"
        }
      ]
    },
    {
      "cell_type": "code",
      "metadata": {
        "id": "DpgoVmLgCGKb"
      },
      "source": [
        ""
      ],
      "execution_count": null,
      "outputs": []
    }
  ]
}